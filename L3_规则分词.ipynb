{
 "cells": [
  {
   "cell_type": "markdown",
   "metadata": {},
   "source": [
    "# 基于规则"
   ]
  },
  {
   "cell_type": "markdown",
   "metadata": {},
   "source": [
    "正向最大匹配算法"
   ]
  },
  {
   "cell_type": "code",
   "execution_count": 1,
   "metadata": {},
   "outputs": [],
   "source": [
    "class MaximumMatch(object):\n",
    "    def __init__(self):\n",
    "        self.window_size = 3\n",
    "        self.dict = [\"研究\", \"研究生\", \"生命\", \"命\", \"的\", \"起源\"]\n",
    "    def cut(self, text):\n",
    "        result = []\n",
    "        index = 0\n",
    "        text_length = len(text)\n",
    "        while index < text_length:\n",
    "            for size in range(self.window_size+index, index, -1):\n",
    "                piece = text[index:size]\n",
    "                if piece in self.dict:\n",
    "                    index = size - 1\n",
    "                    break\n",
    "            index += 1\n",
    "            result.append(piece + \"-----\")\n",
    "        return result"
   ]
  },
  {
   "cell_type": "code",
   "execution_count": 2,
   "metadata": {},
   "outputs": [],
   "source": [
    "text = \"研究生命的起源\""
   ]
  },
  {
   "cell_type": "code",
   "execution_count": 3,
   "metadata": {},
   "outputs": [
    {
     "data": {
      "text/plain": [
       "['研究生-----', '命-----', '的-----', '起源-----']"
      ]
     },
     "execution_count": 3,
     "metadata": {},
     "output_type": "execute_result"
    }
   ],
   "source": [
    "tokenizer = MaximumMatch()\n",
    "tokenizer.cut(text)"
   ]
  },
  {
   "cell_type": "code",
   "execution_count": 4,
   "metadata": {},
   "outputs": [],
   "source": [
    "class MaxMatchTest(object):\n",
    "    def __init__(self):\n",
    "        self.window_size = 3\n",
    "        self.dict = [\"研究\", \"研究生\", \"生命\", \"命\", \"的\", \"起源\"]\n",
    "    def cut(self, text):\n",
    "        result = []\n",
    "        idx =0\n",
    "        while idx < len(text):\n",
    "            for inner in range(idx+self.window_size, idx, -1):\n",
    "                piece = text[idx:inner]\n",
    "                if piece in self.dict:\n",
    "                    idx = inner - 1\n",
    "                    break\n",
    "            idx += 1\n",
    "            result.append(piece)\n",
    "        print(result)"
   ]
  },
  {
   "cell_type": "code",
   "execution_count": 5,
   "metadata": {},
   "outputs": [
    {
     "name": "stdout",
     "output_type": "stream",
     "text": [
      "['研究生', '命', '的', '起源']\n"
     ]
    }
   ],
   "source": [
    "test = MaxMatchTest()\n",
    "test.cut(text)"
   ]
  },
  {
   "cell_type": "markdown",
   "metadata": {},
   "source": [
    "逆向最大匹配算法"
   ]
  },
  {
   "cell_type": "code",
   "execution_count": 6,
   "metadata": {},
   "outputs": [],
   "source": [
    "class RMM(object):\n",
    "    def __init__(self):\n",
    "        self.window_size = 3\n",
    "        self.dict = [\"研究\", \"研究生\", \"生命\", \"命\", \"的\", \"起源\"]\n",
    "    def cut(self, text):\n",
    "        result = []\n",
    "        idx = len(text)\n",
    "        while idx > 0:\n",
    "            for inner in range(idx-self.window_size, idx):\n",
    "                piece = text[inner: idx]\n",
    "                if piece in self.dict:\n",
    "                    idx = inner + 1\n",
    "                    break\n",
    "            idx -= 1\n",
    "            result.append(piece + '-----')\n",
    "        return result"
   ]
  },
  {
   "cell_type": "code",
   "execution_count": 7,
   "metadata": {},
   "outputs": [
    {
     "data": {
      "text/plain": [
       "['起源-----', '的-----', '生命-----', '研究-----']"
      ]
     },
     "execution_count": 7,
     "metadata": {},
     "output_type": "execute_result"
    }
   ],
   "source": [
    "tokenizer = RMM()\n",
    "tokenizer.cut(text)"
   ]
  },
  {
   "cell_type": "code",
   "execution_count": 8,
   "metadata": {},
   "outputs": [],
   "source": [
    "class RMMTest(object):\n",
    "    def __init__(self):\n",
    "        self.window_size = 3\n",
    "        self.dict = [\"研究\", \"研究生\", \"生命\", \"命\", \"的\", \"起源\"]\n",
    "    def cut(self, text):\n",
    "        result = []\n",
    "        idx = len(text)\n",
    "        while idx > 0:\n",
    "            for inner in range(idx-self.window_size,idx):\n",
    "                piece = text[inner:idx]\n",
    "                if piece in self.dict:\n",
    "                    idx = inner+1\n",
    "                    break\n",
    "            result.append(piece)  \n",
    "            idx -= 1\n",
    "        print(result)"
   ]
  },
  {
   "cell_type": "code",
   "execution_count": 9,
   "metadata": {},
   "outputs": [
    {
     "name": "stdout",
     "output_type": "stream",
     "text": [
      "['起源', '的', '生命', '研究']\n"
     ]
    }
   ],
   "source": [
    "test = RMMTest()\n",
    "test.cut(text)"
   ]
  },
  {
   "cell_type": "markdown",
   "metadata": {},
   "source": [
    "双向匹配算法\n",
    "1. 若正反向分词结果词数不同，则取分词数量较少的那个\n",
    "2. 若分词结果词数相同\n",
    "    1. 分词结果相同就说明没有歧义，随意返回任意即可\n",
    "    2. 分词结果不同返回单字较少的那个"
   ]
  },
  {
   "cell_type": "code",
   "execution_count": 10,
   "metadata": {},
   "outputs": [],
   "source": [
    "class biMM(object):\n",
    "    def __init__(self):\n",
    "        self.MM = MaximumMatch()\n",
    "        self.RMM = RMM()\n",
    "    def cut(self, text):\n",
    "        MMresult = self.MM.cut(text)\n",
    "        RMMresult = self.RMM.cut(text)\n",
    "        if len(MMresult) < len(RMMresult):\n",
    "            return MMresult\n",
    "        elif len(MMresult) > len(RMMresult):\n",
    "            return RMMresult\n",
    "        else:\n",
    "            if(MMresult == RMMresult):\n",
    "                return MMresult\n",
    "            else:\n",
    "                MMcnt = self.count(MMresult)\n",
    "                RMMcnt = self.count(RMMresult)\n",
    "                return MMresult if MMcnt>RMMcnt else RMMresult\n",
    "    \n",
    "    def count(self,arr):\n",
    "        cnt = 0\n",
    "        for idx in arr:\n",
    "            if len(idx)==1:\n",
    "                cnt += 1\n",
    "        return cnt"
   ]
  },
  {
   "cell_type": "code",
   "execution_count": 11,
   "metadata": {},
   "outputs": [
    {
     "data": {
      "text/plain": [
       "['起源-----', '的-----', '生命-----', '研究-----']"
      ]
     },
     "execution_count": 11,
     "metadata": {},
     "output_type": "execute_result"
    }
   ],
   "source": [
    "test = biMM()\n",
    "test.cut(text)"
   ]
  },
  {
   "cell_type": "code",
   "execution_count": null,
   "metadata": {},
   "outputs": [],
   "source": []
  }
 ],
 "metadata": {
  "kernelspec": {
   "display_name": "Python 3",
   "language": "python",
   "name": "python3"
  },
  "language_info": {
   "codemirror_mode": {
    "name": "ipython",
    "version": 3
   },
   "file_extension": ".py",
   "mimetype": "text/x-python",
   "name": "python",
   "nbconvert_exporter": "python",
   "pygments_lexer": "ipython3",
   "version": "3.7.4"
  }
 },
 "nbformat": 4,
 "nbformat_minor": 2
}
