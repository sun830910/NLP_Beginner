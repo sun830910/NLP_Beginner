{
 "cells": [
  {
   "cell_type": "code",
   "execution_count": 1,
   "metadata": {},
   "outputs": [],
   "source": [
    "import re"
   ]
  },
  {
   "cell_type": "code",
   "execution_count": 5,
   "metadata": {},
   "outputs": [],
   "source": [
    "text = \"文本最重要的来源无疑是网络。我们要把网络中的文本获取形成一个文本数据库。利用一个爬虫抓取到网络中的信息。爬取的策略有广度爬取和深度爬取。根据用户的需求，爬虫可以有主题爬虫和通用爬虫之分。\"\n",
    "regex = \"爬虫\"\n",
    "sentences = text.split(\"。\")"
   ]
  },
  {
   "cell_type": "code",
   "execution_count": 6,
   "metadata": {},
   "outputs": [
    {
     "name": "stdout",
     "output_type": "stream",
     "text": [
      "利用一个爬虫抓取到网络中的信息\n",
      "根据用户的需求，爬虫可以有主题爬虫和通用爬虫之分\n"
     ]
    }
   ],
   "source": [
    "for sentence in sentences:\n",
    "    if re.search(regex, sentence) is not None:\n",
    "        print(sentence)"
   ]
  },
  {
   "cell_type": "code",
   "execution_count": 7,
   "metadata": {},
   "outputs": [
    {
     "name": "stdout",
     "output_type": "stream",
     "text": [
      "利用一个爬虫抓取到网络中的信息\n",
      "爬取的策略有广度爬取和深度爬取\n",
      "根据用户的需求，爬虫可以有主题爬虫和通用爬虫之分\n"
     ]
    }
   ],
   "source": [
    "regex = \"爬.\"\n",
    "for sentence in sentences:\n",
    "    if re.search(regex, sentence) is not None:\n",
    "        print(sentence)"
   ]
  },
  {
   "cell_type": "code",
   "execution_count": 8,
   "metadata": {},
   "outputs": [
    {
     "name": "stdout",
     "output_type": "stream",
     "text": [
      "文本最重要的来源无疑是网络\n"
     ]
    }
   ],
   "source": [
    "regex = \"^文本\"\n",
    "for sentence in sentences:\n",
    "    if re.search(regex, sentence) is not None:\n",
    "        print(sentence)"
   ]
  },
  {
   "cell_type": "code",
   "execution_count": null,
   "metadata": {},
   "outputs": [],
   "source": []
  }
 ],
 "metadata": {
  "kernelspec": {
   "display_name": "Python 3",
   "language": "python",
   "name": "python3"
  },
  "language_info": {
   "codemirror_mode": {
    "name": "ipython",
    "version": 3
   },
   "file_extension": ".py",
   "mimetype": "text/x-python",
   "name": "python",
   "nbconvert_exporter": "python",
   "pygments_lexer": "ipython3",
   "version": "3.7.4"
  }
 },
 "nbformat": 4,
 "nbformat_minor": 2
}
